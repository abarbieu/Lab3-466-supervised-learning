{
 "cells": [
  {
   "cell_type": "markdown",
   "id": "c27933ff-eb24-4335-8bc7-27dda1fee0a7",
   "metadata": {},
   "source": [
    "## Classifier"
   ]
  },
  {
   "cell_type": "markdown",
   "id": "3d9d4cad-1c8d-4374-96be-043494121a0c",
   "metadata": {},
   "source": [
    "Takes JSON input (from tree induction) and CSV file"
   ]
  },
  {
   "cell_type": "code",
   "execution_count": 2,
   "id": "758a0737-d207-48b0-a4d8-a26808a15e32",
   "metadata": {},
   "outputs": [],
   "source": [
    "import numpy as np\n",
    "import pandas as pd\n",
    "import json\n",
    "import sys"
   ]
  },
  {
   "cell_type": "code",
   "execution_count": 21,
   "id": "177323ad-ade6-446b-8c12-238280e3f8c5",
   "metadata": {},
   "outputs": [],
   "source": [
    "def readArrange(filename):\n",
    "    df = pd.read_csv(filename)\n",
    "    aclass = df.iloc[1,0]\n",
    "    labels = True\n",
    "    if not isinstance(aclass, str):\n",
    "        labels = False\n",
    "    df = df.drop([0,1], axis=0)\n",
    "    \n",
    "    if labels:\n",
    "        df = df[[c for c in df if c not in [aclass]] + [aclass]]\n",
    "    return df, labels"
   ]
  },
  {
   "cell_type": "code",
   "execution_count": 20,
   "id": "66afb426-4b43-4578-92fa-000b9c642980",
   "metadata": {},
   "outputs": [],
   "source": [
    "# returns a pandas dataframe from the csvfile and a dictionary from the jsonfile\n",
    "def readFiles(file1=None, file2=None):\n",
    "    if file1 is None and file2 is None:\n",
    "        if len(sys.argv) != 3:\n",
    "            print(\"Not enough arguments.\")\n",
    "            exit(1)\n",
    "        else:\n",
    "            file1 = sys.argv[1]\n",
    "            file2 = sys.argv[2]\n",
    "    \n",
    "    data, isLabeled = readArrange(file1)\n",
    "    tree = None\n",
    "    with open(file2) as f:\n",
    "        tree = json.load(f)\n",
    "    \n",
    "    return data, tree, isLabeled"
   ]
  },
  {
   "cell_type": "code",
   "execution_count": 31,
   "id": "a6f556e6-4862-4f65-b2ee-a493b01c60ee",
   "metadata": {},
   "outputs": [],
   "source": [
    "def traverseTree(row, tree, nodeType):\n",
    "    if nodeType == \"leaf\":\n",
    "        return tree[\"decision\"]        \n",
    "        \n",
    "    elif nodeType == \"node\":\n",
    "        val = row[tree[\"var\"]]\n",
    "        for obj in tree[\"edges\"]:\n",
    "            if obj[\"edge\"][\"value\"] == val:\n",
    "                newType = \"leaf\" if \"leaf\" in obj[\"edge\"].keys() else \"node\"\n",
    "                return traverseTree(row, obj[\"edge\"][newType], newType)"
   ]
  },
  {
   "cell_type": "code",
   "execution_count": 100,
   "id": "b51f3815-0ba9-44f9-b909-10f7429685cd",
   "metadata": {},
   "outputs": [
    {
     "name": "stdout",
     "output_type": "stream",
     "text": [
      "12960\n",
      "            recommend  priority  not_recom  very_recom  spec_prior\n",
      "recommend         0.0       2.0        0.0         0.0         0.0\n",
      "priority          0.0    4266.0        0.0         0.0         0.0\n",
      "not_recom         0.0       0.0     4320.0         0.0         0.0\n",
      "very_recom        0.0     328.0        0.0         0.0         0.0\n",
      "spec_prior        0.0    4044.0        0.0         0.0         0.0\n"
     ]
    }
   ],
   "source": [
    "def classify(d=None, t=None, labeled=False, confusion):\n",
    "    numErrors = 0\n",
    "    numCorrect = 0\n",
    "    totalClassified = 0\n",
    "    accuracy = 0\n",
    "    errorRate = 0\n",
    "    \n",
    "    data = None\n",
    "    tree = None\n",
    "    if d is None and t is None:\n",
    "        data, tree = readFiles(\"nursery.csv\", \"output.json\")\n",
    "    else:\n",
    "        data = d\n",
    "        tree = t\n",
    "    \n",
    "    out = []\n",
    "    for i, row in data.iterrows():\n",
    "        prediction = traverseTree(row, tree[\"node\"], \"node\")\n",
    "        \n",
    "        # creating results dataframe as list of lists\n",
    "        newLine = []\n",
    "        for c in row:\n",
    "            newLine.append(c)\n",
    "        newLine.append(prediction)\n",
    "        out.append(newLine)\n",
    "        \n",
    "        if labeled:\n",
    "            actual = row[data.columns[-1]]\n",
    "            if prediction != actual:\n",
    "                numErrors += 1\n",
    "            else:\n",
    "                numCorrect += 1\n",
    "            \n",
    "        totalClassified += 1\n",
    "    \n",
    "    \n",
    "    cols = [c for c in data.columns] + [\"Prediction\"]\n",
    "    results = pd.DataFrame(out, columns=cols)\n",
    "\n",
    "    if labeled:\n",
    "        accuracy = numCorrect / totalClassified\n",
    "        errorRate = numErrors / totalClassified\n",
    "        \n",
    "    print(totalClassified)\n",
    "    \n",
    "    \n",
    "    \n",
    "#     print(results)\n",
    "#     print(\"Total Records Classifed: \", totalClassified)\n",
    "#     print(\"Total Classified Correctly: \", numCorrect)\n",
    "#     print(\"Total Classified Incorrectly: \", numErrors)\n",
    "#     print(\"Accuracy: \", accuracy)\n",
    "#     print(\"Error Rate: \", errorRate)\n",
    "    \n",
    "classify()"
   ]
  }
 ],
 "metadata": {
  "kernelspec": {
   "display_name": "Python 3",
   "language": "python",
   "name": "python3"
  },
  "language_info": {
   "codemirror_mode": {
    "name": "ipython",
    "version": 3
   },
   "file_extension": ".py",
   "mimetype": "text/x-python",
   "name": "python",
   "nbconvert_exporter": "python",
   "pygments_lexer": "ipython3",
   "version": "3.8.8"
  }
 },
 "nbformat": 4,
 "nbformat_minor": 5
}
