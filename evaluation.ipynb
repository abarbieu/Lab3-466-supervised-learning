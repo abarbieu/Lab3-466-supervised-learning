{
 "cells": [
  {
   "cell_type": "code",
   "execution_count": 1,
   "id": "e2e16307-4088-435a-929d-cdb3ab35a8fa",
   "metadata": {},
   "outputs": [],
   "source": [
    "import numpy as np\n",
    "import pandas as pd\n",
    "import math\n",
    "import json\n",
    "import sys\n",
    "from InduceC45 import c45, readFiles\n",
    "from classifier import classify, readArrange"
   ]
  },
  {
   "cell_type": "code",
   "execution_count": 2,
   "id": "fe38ad07-3b0b-4234-8d10-2fba5ee40f16",
   "metadata": {},
   "outputs": [],
   "source": [
    "numSplits = 4.0\n",
    "datafile = 'houses.csv'\n",
    "restrictions = 'restr.txt'\n",
    "df,tmp = readFiles(datafile,restrictions)"
   ]
  },
  {
   "cell_type": "code",
   "execution_count": 35,
   "id": "b41058cd-bd85-4f9b-b2d8-fe64d7ac2c3b",
   "metadata": {},
   "outputs": [
    {
     "name": "stdout",
     "output_type": "stream",
     "text": [
      "0 0    2\n",
      "1    N\n",
      "Name: 0, dtype: object\n",
      "1 0    3\n",
      "1    Y\n",
      "Name: 1, dtype: object\n",
      "2 0    4\n",
      "1    N\n",
      "Name: 2, dtype: object\n",
      "3 0    5\n",
      "1    N\n",
      "Name: 3, dtype: object\n",
      "4 0    6\n",
      "1    N\n",
      "Name: 4, dtype: object\n",
      "5 0    7\n",
      "1    Y\n",
      "Name: 5, dtype: object\n",
      "6 0    8\n",
      "1    Y\n",
      "Name: 6, dtype: object\n",
      "7 0    9\n",
      "1    N\n",
      "Name: 7, dtype: object\n",
      "8 0    10\n",
      "1     Y\n",
      "Name: 8, dtype: object\n",
      "9 0    11\n",
      "1     N\n",
      "Name: 9, dtype: object\n",
      "10 0    12\n",
      "1     Y\n",
      "Name: 10, dtype: object\n",
      "11 0    13\n",
      "1     N\n",
      "Name: 11, dtype: object\n",
      "12 0    14\n",
      "1     Y\n",
      "Name: 12, dtype: object\n",
      "13 0    15\n",
      "1     Y\n",
      "Name: 13, dtype: object\n",
      "14 0    16\n",
      "1     N\n",
      "Name: 14, dtype: object\n",
      "15 0    17\n",
      "1     N\n",
      "Name: 15, dtype: object\n",
      "BDR    4\n",
      "BSM    N\n",
      "FLP    T\n",
      "LOC    N\n",
      "VIS    N\n",
      "Name: 16, dtype: object\n"
     ]
    }
   ],
   "source": [
    "splits = np.array_split(df, numSplits)\n",
    "final=[]\n",
    "for i in range(len(splits)):\n",
    "    training = pd.concat([s for j,s in enumerate(splits) if j!=i])\n",
    "    split = splits[i]\n",
    "    final+=(classify(split,c45(training,training.columns[:-1], 0.2), silent=True))\n",
    "    \n",
    "final = pd.DataFrame(final)\n",
    "for i, row in final.iterrows():\n",
    "    print(i,row)\n",
    "print(df.loc[16])\n",
    "# j=0\n",
    "# ratio=len(df)/numSplits\n",
    "# for i,row in df.iterrows():\n",
    "#     if j%ratio == 0:\n",
    "#         print(df[:)\n",
    "#     j+=1\n",
    "    \n",
    "# print(len(df), df)\n",
    "# for i in range(len(df),len(df)/numSplits):\n",
    "#     print(i)\n",
    "# for split in splits:\n",
    "#     print(split)\n",
    "#     print(c45(split,split.columns[:-1], 0.2))\n",
    "# classify(df, induceC45(\"houses.csv\"), silent=True)"
   ]
  },
  {
   "cell_type": "code",
   "execution_count": 15,
   "id": "4adbcb96-ef6a-4784-b17c-f8c1aac6c3c0",
   "metadata": {},
   "outputs": [
    {
     "name": "stdout",
     "output_type": "stream",
     "text": [
      "0\n",
      "3\n",
      "6\n",
      "9\n"
     ]
    }
   ],
   "source": [
    "for i in range(0,10,3):\n",
    "    print(i)"
   ]
  },
  {
   "cell_type": "raw",
   "id": "0bbfa8ac-f7bb-4c68-ab3a-8d6811a2c0eb",
   "metadata": {},
   "source": []
  }
 ],
 "metadata": {
  "kernelspec": {
   "display_name": "Python 3",
   "language": "python",
   "name": "python3"
  },
  "language_info": {
   "codemirror_mode": {
    "name": "ipython",
    "version": 3
   },
   "file_extension": ".py",
   "mimetype": "text/x-python",
   "name": "python",
   "nbconvert_exporter": "python",
   "pygments_lexer": "ipython3",
   "version": "3.8.8"
  }
 },
 "nbformat": 4,
 "nbformat_minor": 5
}
