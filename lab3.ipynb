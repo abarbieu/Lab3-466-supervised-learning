{
 "cells": [
  {
   "cell_type": "markdown",
   "id": "011a5e0e-2e5d-4522-ae40-8ea285a4f640",
   "metadata": {},
   "source": [
    "# Lab 3: Supervised Learning - Classification Algorithms"
   ]
  },
  {
   "cell_type": "markdown",
   "id": "6efdf6b4-3d89-44df-a716-e63434a0a96f",
   "metadata": {},
   "source": [
    "### Aidan Barbieux and Eric Inman"
   ]
  },
  {
   "cell_type": "code",
   "execution_count": 19,
   "id": "0966a37a-0a18-404a-bcf3-48565066ea39",
   "metadata": {},
   "outputs": [],
   "source": [
    "import numpy as np\n",
    "import pandas as pd\n",
    "import math"
   ]
  },
  {
   "cell_type": "markdown",
   "id": "3345a001-f208-46a4-9c1b-4e4ecd6f164b",
   "metadata": {},
   "source": [
    "## C4.5 Algorithm"
   ]
  },
  {
   "cell_type": "markdown",
   "id": "f84514da-831d-41a9-9cbc-0f2f37243dd0",
   "metadata": {},
   "source": [
    "### Entropy Calculation"
   ]
  },
  {
   "cell_type": "code",
   "execution_count": 37,
   "id": "b9481819-3e70-4355-b611-938e39e272be",
   "metadata": {},
   "outputs": [],
   "source": [
    "# takes the column of classes from dataset and computes information entropy\n",
    "def entropy(classCol):\n",
    "    vals = classCol.value_counts()\n",
    "    size = len(classCol)\n",
    "    entropy=0\n",
    "    for v in vals:\n",
    "        entropy -= (v/size) * math.log(v/size,2)\n",
    "    return entropy"
   ]
  },
  {
   "cell_type": "markdown",
   "id": "56e93456-4d5c-4cd1-9066-f878086acdf2",
   "metadata": {},
   "source": [
    "### Tree class"
   ]
  },
  {
   "cell_type": "code",
   "execution_count": null,
   "id": "a03b018c-e7b9-43be-adbd-e29e3baeb44b",
   "metadata": {},
   "outputs": [],
   "source": [
    "class Tree :\n",
    "    def __init__(self):\n",
    "        self.children = {}\n",
    "        self.label = ''"
   ]
  },
  {
   "cell_type": "markdown",
   "id": "dd7d5a5d-a77f-415f-b113-03dff958edda",
   "metadata": {},
   "source": [
    "### C4.5"
   ]
  },
  {
   "cell_type": "code",
   "execution_count": null,
   "id": "45ba9e3b-d103-44c0-8cc5-5f20e5779246",
   "metadata": {},
   "outputs": [],
   "source": [
    "def c45(data, attrs, tree, thresh):\n",
    "    "
   ]
  },
  {
   "cell_type": "markdown",
   "id": "bc520fa8-8682-4d03-9860-21d0695dffcc",
   "metadata": {},
   "source": [
    "## Data"
   ]
  },
  {
   "cell_type": "code",
   "execution_count": 35,
   "id": "4b0fb00b-8b5b-4b63-b0f7-f38ec43053cf",
   "metadata": {},
   "outputs": [
    {
     "name": "stdout",
     "output_type": "stream",
     "text": [
      "T 12 :  -0.44217935649972373\n",
      "F 8 :  -0.5287712379549449\n"
     ]
    },
    {
     "data": {
      "text/plain": [
       "-0.9709505944546686"
      ]
     },
     "execution_count": 35,
     "metadata": {},
     "output_type": "execute_result"
    }
   ],
   "source": [
    "astretch = pd.read_csv(\"adult-stretch.csv\")\n",
    "astretch = astretch.drop([0,1], axis=0)\n",
    "entropy(astretch['Inflated'])"
   ]
  }
 ],
 "metadata": {
  "kernelspec": {
   "display_name": "Python 3",
   "language": "python",
   "name": "python3"
  },
  "language_info": {
   "codemirror_mode": {
    "name": "ipython",
    "version": 3
   },
   "file_extension": ".py",
   "mimetype": "text/x-python",
   "name": "python",
   "nbconvert_exporter": "python",
   "pygments_lexer": "ipython3",
   "version": "3.8.8"
  }
 },
 "nbformat": 4,
 "nbformat_minor": 5
}
