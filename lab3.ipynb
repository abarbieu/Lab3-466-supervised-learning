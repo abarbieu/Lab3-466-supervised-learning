{
 "cells": [
  {
   "cell_type": "markdown",
   "id": "011a5e0e-2e5d-4522-ae40-8ea285a4f640",
   "metadata": {},
   "source": [
    "# Lab 3: Supervised Learning - Classification Algorithms"
   ]
  },
  {
   "cell_type": "markdown",
   "id": "6efdf6b4-3d89-44df-a716-e63434a0a96f",
   "metadata": {},
   "source": [
    "### Aidan Barbieux and Eric Inman"
   ]
  },
  {
   "cell_type": "code",
   "execution_count": 2,
   "id": "0966a37a-0a18-404a-bcf3-48565066ea39",
   "metadata": {},
   "outputs": [],
   "source": [
    "import numpy as np\n",
    "import pandas as pd\n",
    "import math"
   ]
  },
  {
   "cell_type": "markdown",
   "id": "3345a001-f208-46a4-9c1b-4e4ecd6f164b",
   "metadata": {},
   "source": [
    "## C4.5 Algorithm"
   ]
  },
  {
   "cell_type": "code",
   "execution_count": 3,
   "id": "b9481819-3e70-4355-b611-938e39e272be",
   "metadata": {},
   "outputs": [],
   "source": [
    "# entropy of a series of data\n",
    "def entropy(classcol):\n",
    "    vals = classcol.value_counts()\n",
    "    size = classcol.count()\n",
    "    entropy=0\n",
    "    for v in vals:\n",
    "        entropy -= (v/size) * math.log(v/size,2)\n",
    "    return entropy\n",
    "\n",
    "# entropy of an attribute in a dataset, over each value of the attribute\n",
    "def entropyAttr(data, attr):\n",
    "    vals = data.pivot(columns=attr,values=data.columns[-1])\n",
    "    entropyTot = 0\n",
    "    for c in vals.columns:\n",
    "        entropyTot += (vals[c].count()/len(data)) * entropy(vals[c])\n",
    "    return entropyTot"
   ]
  },
  {
   "cell_type": "code",
   "execution_count": 16,
   "id": "a03b018c-e7b9-43be-adbd-e29e3baeb44b",
   "metadata": {},
   "outputs": [],
   "source": [
    "class Tree:\n",
    "    def __init__(self, dataset=''):\n",
    "        self.data = {}\n",
    "        self.data['dataset'] = dataset\n",
    "        \n",
    "    def addNode("
   ]
  },
  {
   "cell_type": "code",
   "execution_count": 25,
   "id": "4d988a16-1a73-46cd-b72c-5c41c3895104",
   "metadata": {},
   "outputs": [],
   "source": [
    "def selectSplittingAttr(attrs, data, threshold):\n",
    "    p0 = entropy(data.iloc[:,-1])\n",
    "    gain={}\n",
    "    for a in attrs:\n",
    "        gain[a] = p0 - entropyAttr(data, a) # info gain\n",
    "    \n",
    "    bestAttr=max(gain,key=gain.get)\n",
    "    if gain[bestAttr] > threshold:\n",
    "        return bestAttr\n",
    "    else:\n",
    "        return None"
   ]
  },
  {
   "cell_type": "markdown",
   "id": "dd7d5a5d-a77f-415f-b113-03dff958edda",
   "metadata": {},
   "source": [
    "### C4.5"
   ]
  },
  {
   "cell_type": "code",
   "execution_count": 27,
   "id": "b690770c-3a19-4724-beb5-4936b82e1b8c",
   "metadata": {},
   "outputs": [],
   "source": [
    "# class must be in last column\n",
    "def c45(data, attrs, tree, thresh):\n",
    "    # base case 1\n",
    "    classes = data[classattr]\n",
    "    firstclass = None\n",
    "    allsame=True\n",
    "    for c in classes:\n",
    "        if c == None:\n",
    "            firstclass = c\n",
    "        elif c != firstclass:\n",
    "            allsame=False\n",
    "            break\n",
    "    if allsame:\n",
    "        #create leaf node for perfect purity\n",
    "        return Node(firstclass)\n",
    "    \n",
    "    # base case 2\n",
    "    if len(attrs) == 0:\n",
    "        # create leaf node with most frequent class\n",
    "        return Node(classes.mode())\n",
    "    \n",
    "    # select splitting attr\n",
    "    asplit = selectSplittingAttr(attrs, data, thresh)\n",
    "    if asplit = None:\n",
    "        return Node(classes.mode())\n",
    "    else:\n",
    "        newNode = Node(asplit)\n",
    "        \n",
    "    # select splitting attr\n",
    "    astretch = readArrange('adult-stretch.csv')\n",
    "    "
   ]
  },
  {
   "cell_type": "code",
   "execution_count": 28,
   "id": "953292c8-e83d-44eb-8d2e-ff3ca91a608e",
   "metadata": {},
   "outputs": [],
   "source": [
    "def readArrange(filename):\n",
    "    df = pd.read_csv(filename)\n",
    "    aclass = df.iloc[1,0]\n",
    "    df = df.drop([0,1], axis=0)\n",
    "    df = df[[c for c in astretch if c not in [aclass]] + [aclass]]\n",
    "    return df"
   ]
  },
  {
   "cell_type": "markdown",
   "id": "bc520fa8-8682-4d03-9860-21d0695dffcc",
   "metadata": {},
   "source": [
    "## Data"
   ]
  },
  {
   "cell_type": "code",
   "execution_count": 11,
   "id": "4b0fb00b-8b5b-4b63-b0f7-f38ec43053cf",
   "metadata": {},
   "outputs": [
    {
     "name": "stdout",
     "output_type": "stream",
     "text": [
      "2     T\n",
      "3     T\n",
      "4     T\n",
      "5     F\n",
      "6     F\n",
      "7     T\n",
      "8     T\n",
      "9     T\n",
      "10    F\n",
      "11    F\n",
      "12    T\n",
      "13    T\n",
      "14    T\n",
      "15    F\n",
      "16    F\n",
      "17    T\n",
      "18    T\n",
      "19    T\n",
      "20    F\n",
      "21    F\n",
      "Name: Inflated, dtype: object\n"
     ]
    },
    {
     "ename": "TypeError",
     "evalue": "entropy() takes 1 positional argument but 2 were given",
     "output_type": "error",
     "traceback": [
      "\u001b[1;31m---------------------------------------------------------------------------\u001b[0m",
      "\u001b[1;31mTypeError\u001b[0m                                 Traceback (most recent call last)",
      "\u001b[1;32m<ipython-input-11-b10d230ff5e5>\u001b[0m in \u001b[0;36m<module>\u001b[1;34m\u001b[0m\n\u001b[0;32m      2\u001b[0m \u001b[0mastretch\u001b[0m \u001b[1;33m=\u001b[0m \u001b[0mastretch\u001b[0m\u001b[1;33m.\u001b[0m\u001b[0mdrop\u001b[0m\u001b[1;33m(\u001b[0m\u001b[1;33m[\u001b[0m\u001b[1;36m0\u001b[0m\u001b[1;33m,\u001b[0m\u001b[1;36m1\u001b[0m\u001b[1;33m]\u001b[0m\u001b[1;33m,\u001b[0m \u001b[0maxis\u001b[0m\u001b[1;33m=\u001b[0m\u001b[1;36m0\u001b[0m\u001b[1;33m)\u001b[0m\u001b[1;33m\u001b[0m\u001b[1;33m\u001b[0m\u001b[0m\n\u001b[0;32m      3\u001b[0m \u001b[0mc45\u001b[0m\u001b[1;33m(\u001b[0m\u001b[0mastretch\u001b[0m\u001b[1;33m,\u001b[0m\u001b[1;36m1\u001b[0m\u001b[1;33m,\u001b[0m\u001b[1;36m2\u001b[0m\u001b[1;33m,\u001b[0m\u001b[1;36m3\u001b[0m\u001b[1;33m)\u001b[0m\u001b[1;33m\u001b[0m\u001b[1;33m\u001b[0m\u001b[0m\n\u001b[1;32m----> 4\u001b[1;33m \u001b[0mentropy\u001b[0m\u001b[1;33m(\u001b[0m\u001b[0mastretch\u001b[0m\u001b[1;33m,\u001b[0m\u001b[1;34m'Size'\u001b[0m\u001b[1;33m)\u001b[0m\u001b[1;33m\u001b[0m\u001b[1;33m\u001b[0m\u001b[0m\n\u001b[0m",
      "\u001b[1;31mTypeError\u001b[0m: entropy() takes 1 positional argument but 2 were given"
     ]
    }
   ],
   "source": []
  }
 ],
 "metadata": {
  "kernelspec": {
   "display_name": "Python 3",
   "language": "python",
   "name": "python3"
  },
  "language_info": {
   "codemirror_mode": {
    "name": "ipython",
    "version": 3
   },
   "file_extension": ".py",
   "mimetype": "text/x-python",
   "name": "python",
   "nbconvert_exporter": "python",
   "pygments_lexer": "ipython3",
   "version": "3.8.8"
  }
 },
 "nbformat": 4,
 "nbformat_minor": 5
}
