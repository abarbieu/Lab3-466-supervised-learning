{
 "cells": [
  {
   "cell_type": "code",
   "execution_count": 2,
   "id": "e2e16307-4088-435a-929d-cdb3ab35a8fa",
   "metadata": {},
   "outputs": [],
   "source": [
    "import numpy as np\n",
    "import pandas as pd\n",
    "import math\n",
    "import json\n",
    "import sys\n",
    "from InduceC45 import c45, readFiles\n",
    "from classifier import classify, readArrange"
   ]
  },
  {
   "cell_type": "code",
   "execution_count": 105,
   "id": "461563bb-ef49-4ce4-885a-127883c5c8a5",
   "metadata": {},
   "outputs": [],
   "source": [
    "def predict_kfold(df, numSplits, threshold):\n",
    "    prev=None\n",
    "    kfoldPreds = []\n",
    "    \n",
    "    # all but one cross validation\n",
    "    if numSplits == -1:\n",
    "        numSplits = len(df)-1\n",
    "    \n",
    "    # split dataset kfold and generate predictions\n",
    "    if numSplits <= 1:\n",
    "        kfoldPreds += classify(df, c45(df, df.columns[:-1], threshold), silent=True)\n",
    "    else:\n",
    "        # go through indecies by fold length\n",
    "        for i in range(0,len(df),int(len(df)/numSplits)):\n",
    "            if prev is None:\n",
    "                prev=i\n",
    "            else:\n",
    "                trainingData = pd.concat([df[:prev], df[i:]])\n",
    "                classifyData = df[prev:i]\n",
    "                kfoldPreds += classify(classifyData, c45(trainingData, df.columns[:-1], threshold), silent=True)\n",
    "                prev=i\n",
    "        else:\n",
    "            trainingData = df[:prev]\n",
    "            classifyData = df[prev:]\n",
    "        kfoldPreds += classify(classifyData, c45(trainingData, df.columns[:-1], threshold), silent=True)\n",
    "    \n",
    "    ret = pd.DataFrame(kfoldPreds, columns=['index', 'prediction']).set_index('index')\n",
    "    ret['actual'] = df.loc[:,df.columns[-1]:]"
   ]
  },
  {
   "cell_type": "code",
   "execution_count": 109,
   "id": "fe38ad07-3b0b-4234-8d10-2fba5ee40f16",
   "metadata": {},
   "outputs": [],
   "source": [
    "datafile = 'houses.csv'\n",
    "restrictions = 'restr.txt'\n",
    "threshold=0.2\n",
    "df,tmp = readFiles(datafile,restrictions)\n",
    "\n",
    "numSplits = 5\n",
    "\n",
    "a=predict_kfold(df,5,0.2)\n",
    "\n",
    "a['actual']=df.loc[:,df.columns[-1]:]"
   ]
  },
  {
   "cell_type": "code",
   "execution_count": 78,
   "id": "b41058cd-bd85-4f9b-b2d8-fe64d7ac2c3b",
   "metadata": {},
   "outputs": [
    {
     "name": "stdout",
     "output_type": "stream",
     "text": [
      "0 3 --- 2 0 3 16\n",
      "3 6 --- 2 3 6 16\n",
      "6 9 --- 2 6 9 16\n",
      "9 12 --- 2 9 12 16\n",
      "12 15 --- 2 12 15 16\n",
      "[2, 'N']\n",
      "[3, 'Y']\n",
      "[4, 'N']\n",
      "[5, 'N']\n",
      "[6, 'N']\n",
      "[7, 'Y']\n",
      "[8, 'Y']\n",
      "[9, 'N']\n",
      "[10, 'Y']\n",
      "[11, 'N']\n",
      "[12, 'Y']\n",
      "[13, 'N']\n",
      "[14, 'Y']\n",
      "[15, 'Y']\n",
      "[16, 'N']\n",
      "[17, 'N']\n"
     ]
    }
   ],
   "source": []
  },
  {
   "cell_type": "code",
   "execution_count": 90,
   "id": "4adbcb96-ef6a-4784-b17c-f8c1aac6c3c0",
   "metadata": {},
   "outputs": [
    {
     "data": {
      "text/plain": [
       "[[1, 2], [3, 4], [5, 6]]"
      ]
     },
     "execution_count": 90,
     "metadata": {},
     "output_type": "execute_result"
    }
   ],
   "source": [
    "a=[[1,2],[3,4]]\n",
    "a+=[[5,6]]\n",
    "a"
   ]
  },
  {
   "cell_type": "raw",
   "id": "0bbfa8ac-f7bb-4c68-ab3a-8d6811a2c0eb",
   "metadata": {},
   "source": []
  }
 ],
 "metadata": {
  "kernelspec": {
   "display_name": "Python 3",
   "language": "python",
   "name": "python3"
  },
  "language_info": {
   "codemirror_mode": {
    "name": "ipython",
    "version": 3
   },
   "file_extension": ".py",
   "mimetype": "text/x-python",
   "name": "python",
   "nbconvert_exporter": "python",
   "pygments_lexer": "ipython3",
   "version": "3.8.8"
  }
 },
 "nbformat": 4,
 "nbformat_minor": 5
}
