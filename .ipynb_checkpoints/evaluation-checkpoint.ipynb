{
 "cells": [
  {
   "cell_type": "code",
   "execution_count": 1,
   "id": "e2e16307-4088-435a-929d-cdb3ab35a8fa",
   "metadata": {},
   "outputs": [],
   "source": [
    "import numpy as np\n",
    "import pandas as pd\n",
    "import math\n",
    "import json\n",
    "import sys\n",
    "from InduceC45 import c45, readFiles\n",
    "from classifier import classify, readArrange"
   ]
  },
  {
   "cell_type": "code",
   "execution_count": 11,
   "id": "00bce1e0-f5ea-4c85-beb2-e339f4289815",
   "metadata": {},
   "outputs": [],
   "source": [
    "def initializeConfusion(resultDf):\n",
    "    labels = resultDf.iloc[:, -1].unique() # labels are in last column (not using result df from classify)\n",
    "    zeros = np.zeros(shape=(len(labels), len(labels)))\n",
    "    confusion = pd.DataFrame(zeros, labels, labels)\n",
    "\n",
    "    return confusion\n",
    "            \n",
    "def updateConfusion(predictions, actual, confusion):\n",
    "    for i, row in resultDf.iterrows():\n",
    "        r = row[\"Prediction\"]\n",
    "        c = row[resultDf.columns[-2]]\n",
    "        confusion[r][c] +=1"
   ]
  },
  {
   "cell_type": "code",
   "execution_count": 2,
   "id": "fe38ad07-3b0b-4234-8d10-2fba5ee40f16",
   "metadata": {},
   "outputs": [],
   "source": [
    "numSplits = 4.0\n",
    "datafile = 'houses.csv'\n",
    "restrictions = 'restr.txt'\n",
    "df,tmp = readFiles(datafile,restrictions)"
   ]
  },
  {
   "cell_type": "code",
   "execution_count": 39,
   "id": "b41058cd-bd85-4f9b-b2d8-fe64d7ac2c3b",
   "metadata": {},
   "outputs": [
    {
     "name": "stdout",
     "output_type": "stream",
     "text": [
      "     N    Y\n",
      "N  0.0  0.0\n",
      "Y  0.0  0.0\n"
     ]
    },
    {
     "ename": "TypeError",
     "evalue": "classify() got an unexpected keyword argument 'confusion'",
     "output_type": "error",
     "traceback": [
      "\u001b[0;31m---------------------------------------------------------------------------\u001b[0m",
      "\u001b[0;31mTypeError\u001b[0m                                 Traceback (most recent call last)",
      "\u001b[0;32m<ipython-input-39-1874906da986>\u001b[0m in \u001b[0;36m<module>\u001b[0;34m\u001b[0m\n\u001b[1;32m      6\u001b[0m     \u001b[0mtraining\u001b[0m \u001b[0;34m=\u001b[0m \u001b[0mpd\u001b[0m\u001b[0;34m.\u001b[0m\u001b[0mconcat\u001b[0m\u001b[0;34m(\u001b[0m\u001b[0;34m[\u001b[0m\u001b[0ms\u001b[0m \u001b[0;32mfor\u001b[0m \u001b[0mj\u001b[0m\u001b[0;34m,\u001b[0m\u001b[0ms\u001b[0m \u001b[0;32min\u001b[0m \u001b[0menumerate\u001b[0m\u001b[0;34m(\u001b[0m\u001b[0msplits\u001b[0m\u001b[0;34m)\u001b[0m \u001b[0;32mif\u001b[0m \u001b[0mj\u001b[0m\u001b[0;34m!=\u001b[0m\u001b[0mi\u001b[0m\u001b[0;34m]\u001b[0m\u001b[0;34m)\u001b[0m\u001b[0;34m\u001b[0m\u001b[0;34m\u001b[0m\u001b[0m\n\u001b[1;32m      7\u001b[0m     \u001b[0msplit\u001b[0m \u001b[0;34m=\u001b[0m \u001b[0msplits\u001b[0m\u001b[0;34m[\u001b[0m\u001b[0mi\u001b[0m\u001b[0;34m]\u001b[0m\u001b[0;34m\u001b[0m\u001b[0;34m\u001b[0m\u001b[0m\n\u001b[0;32m----> 8\u001b[0;31m     \u001b[0mfinal\u001b[0m\u001b[0;34m+=\u001b[0m\u001b[0;34m(\u001b[0m\u001b[0mclassify\u001b[0m\u001b[0;34m(\u001b[0m\u001b[0msplit\u001b[0m\u001b[0;34m,\u001b[0m \u001b[0mc45\u001b[0m\u001b[0;34m(\u001b[0m\u001b[0mtraining\u001b[0m\u001b[0;34m,\u001b[0m\u001b[0mtraining\u001b[0m\u001b[0;34m.\u001b[0m\u001b[0mcolumns\u001b[0m\u001b[0;34m[\u001b[0m\u001b[0;34m:\u001b[0m\u001b[0;34m-\u001b[0m\u001b[0;36m1\u001b[0m\u001b[0;34m]\u001b[0m\u001b[0;34m,\u001b[0m \u001b[0;36m0.2\u001b[0m\u001b[0;34m)\u001b[0m\u001b[0;34m,\u001b[0m \u001b[0msilent\u001b[0m\u001b[0;34m=\u001b[0m\u001b[0;32mTrue\u001b[0m\u001b[0;34m,\u001b[0m \u001b[0mlabeled\u001b[0m\u001b[0;34m=\u001b[0m\u001b[0;32mFalse\u001b[0m\u001b[0;34m,\u001b[0m \u001b[0mconfusion\u001b[0m\u001b[0;34m=\u001b[0m\u001b[0mconf\u001b[0m\u001b[0;34m)\u001b[0m\u001b[0;34m)\u001b[0m\u001b[0;34m\u001b[0m\u001b[0;34m\u001b[0m\u001b[0m\n\u001b[0m\u001b[1;32m      9\u001b[0m \u001b[0;34m\u001b[0m\u001b[0m\n\u001b[1;32m     10\u001b[0m \u001b[0mprint\u001b[0m\u001b[0;34m(\u001b[0m\u001b[0mconfusion\u001b[0m\u001b[0;34m)\u001b[0m\u001b[0;34m\u001b[0m\u001b[0;34m\u001b[0m\u001b[0m\n",
      "\u001b[0;31mTypeError\u001b[0m: classify() got an unexpected keyword argument 'confusion'"
     ]
    }
   ],
   "source": [
    "splits = np.array_split(df, numSplits)\n",
    "final=[]\n",
    "conf = initializeConfusion(df)\n",
    "print(confusion)\n",
    "for i in range(len(splits)):\n",
    "    training = pd.concat([s for j,s in enumerate(splits) if j!=i])\n",
    "    split = splits[i]\n",
    "    final+=(classify(split, c45(training,training.columns[:-1], 0.2), silent=True, labeled=True))\n",
    "    \n",
    "print(confusion)\n",
    "final = pd.DataFrame(final)\n",
    "for i, row in final.iterrows():\n",
    "    print(i, row)\n",
    "print(df.loc[16])\n",
    "# j=0\n",
    "# ratio=len(df)/numSplits\n",
    "# for i,row in df.iterrows():\n",
    "#     if j%ratio == 0:\n",
    "#         print(df[:)\n",
    "#     j+=1\n",
    "    \n",
    "# print(len(df), df)\n",
    "# for i in range(len(df),len(df)/numSplits):\n",
    "#     print(i)\n",
    "# for split in splits:\n",
    "#     print(split)\n",
    "#     print(c45(split,split.columns[:-1], 0.2))\n",
    "# classify(df, induceC45(\"houses.csv\"), silent=True)"
   ]
  },
  {
   "cell_type": "code",
   "execution_count": 15,
   "id": "4adbcb96-ef6a-4784-b17c-f8c1aac6c3c0",
   "metadata": {},
   "outputs": [
    {
     "name": "stdout",
     "output_type": "stream",
     "text": [
      "0\n",
      "3\n",
      "6\n",
      "9\n"
     ]
    }
   ],
   "source": [
    "for i in range(0,10,3):\n",
    "    print(i)"
   ]
  },
  {
   "cell_type": "raw",
   "id": "0bbfa8ac-f7bb-4c68-ab3a-8d6811a2c0eb",
   "metadata": {},
   "source": []
  }
 ],
 "metadata": {
  "kernelspec": {
   "display_name": "Python 3",
   "language": "python",
   "name": "python3"
  },
  "language_info": {
   "codemirror_mode": {
    "name": "ipython",
    "version": 3
   },
   "file_extension": ".py",
   "mimetype": "text/x-python",
   "name": "python",
   "nbconvert_exporter": "python",
   "pygments_lexer": "ipython3",
   "version": "3.8.8"
  }
 },
 "nbformat": 4,
 "nbformat_minor": 5
}
