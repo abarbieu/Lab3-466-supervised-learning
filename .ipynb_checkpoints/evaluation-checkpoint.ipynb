{
 "cells": [
  {
   "cell_type": "code",
   "execution_count": 1,
   "id": "e2e16307-4088-435a-929d-cdb3ab35a8fa",
   "metadata": {},
   "outputs": [],
   "source": [
    "%load_ext autoreload\n",
    "%autoreload 2\n",
    "\n",
    "import numpy as np\n",
    "import pandas as pd\n",
    "import math\n",
    "import json\n",
    "import sys\n",
    "from InduceC45 import c45, readFiles\n",
    "from classifier import classify, readArrange"
   ]
  },
  {
   "cell_type": "code",
   "execution_count": 2,
   "id": "00bce1e0-f5ea-4c85-beb2-e339f4289815",
   "metadata": {},
   "outputs": [],
   "source": [
    "def initializeConfusion(resultDf):\n",
    "    labels = resultDf.iloc[:, -1].unique() # labels are in last column (not using result df from classify)\n",
    "    zeros = np.zeros(shape=(len(labels), len(labels)))\n",
    "    confusion = pd.DataFrame(zeros, labels, labels)\n",
    "\n",
    "    return confusion"
   ]
  },
  {
   "cell_type": "code",
   "execution_count": 3,
   "id": "999fb7e0-58c6-4ea9-b8a7-a3d945b765a1",
   "metadata": {},
   "outputs": [],
   "source": [
    "def calcPrecision(confusion):\n",
    "    TP = sum([confusion.iloc[i, i] for i in range(len(confusion))])\n",
    "    bottom = confusion.values.sum()\n",
    "    return TP/bottom"
   ]
  },
  {
   "cell_type": "code",
   "execution_count": 4,
   "id": "6e8d0b42-294e-4a2d-8565-ac82b3658827",
   "metadata": {},
   "outputs": [],
   "source": [
    "def possiblePrecision(confusion):\n",
    "    totalPrec = 0\n",
    "    for i, col in enumerate(confusion):\n",
    "        total = confusion[col].sum()\n",
    "        totalPrec += confusion.iloc[i, i] / total\n",
    "    \n",
    "    return totalPrec/len(confusion)"
   ]
  },
  {
   "cell_type": "code",
   "execution_count": 5,
   "id": "d5c051e0-8d2b-44ab-bf09-fda8732bf6ab",
   "metadata": {},
   "outputs": [],
   "source": [
    "def calcRecall(confusion):\n",
    "    TP = sum([confusion.iloc[i, i] for i in range(len(confusion))])\n",
    "    bottom = confusion.values.sum()\n",
    "    return TP/bottom"
   ]
  },
  {
   "cell_type": "code",
   "execution_count": 6,
   "id": "c3cd246c-0ff2-4117-b6f8-9506ce2b3b39",
   "metadata": {},
   "outputs": [],
   "source": [
    "def possibleRecall(confusion):\n",
    "    totalRec = 0\n",
    "    for i, row in confusion.iterrows():\n",
    "        total = row.sum()\n",
    "        totalRec += confusion.loc[i, i] / total\n",
    "    \n",
    "    return totalRec / len(confusion)"
   ]
  },
  {
   "cell_type": "code",
   "execution_count": 7,
   "id": "3c786686-6155-43b0-b24d-6e0eca302698",
   "metadata": {},
   "outputs": [],
   "source": [
    "def calcPf(confusion):\n",
    "    totalPf = 0\n",
    "    diagonal = sum([confusion.iloc[i, i] for i in range(len(confusion))])\n",
    "    for i, col in enumerate(confusion):\n",
    "        FP = confusion[col].sum()\n",
    "        TN = diagonal - confusion.iloc[i, i]\n",
    "        totalPf += FP/(FP + TN)\n",
    "\n",
    "    return totalPf/len(confusion)"
   ]
  },
  {
   "cell_type": "code",
   "execution_count": 8,
   "id": "3764c3bd-958a-470f-8c46-e753a143eca9",
   "metadata": {},
   "outputs": [],
   "source": [
    "def calcF(recall, precision):\n",
    "    return (2 * precision * recall) / (precision + recall)"
   ]
  },
  {
   "cell_type": "code",
   "execution_count": 9,
   "id": "885a439b-d4fa-4c7d-b38c-321db5b0a989",
   "metadata": {},
   "outputs": [],
   "source": [
    "numSplits = 4.0\n",
    "datafile = 'houses.csv'\n",
    "restrictions = 'restr.txt'\n",
    "df, tmp, isLabeled = readFiles(datafile,restrictions)"
   ]
  },
  {
   "cell_type": "code",
   "execution_count": 20,
   "id": "e83f4dfe-5e9c-400b-89d0-1d2165c338b3",
   "metadata": {},
   "outputs": [
    {
     "data": {
      "text/plain": [
       "['BSM', 'FLP', 'LOC']"
      ]
     },
     "execution_count": 20,
     "metadata": {},
     "output_type": "execute_result"
    }
   ],
   "source": [
    "attrs=df.columns[:-1].tolist()\n",
    "attrs.remove('BDR')\n",
    "attrs"
   ]
  },
  {
   "cell_type": "code",
   "execution_count": 10,
   "id": "b41058cd-bd85-4f9b-b2d8-fe64d7ac2c3b",
   "metadata": {},
   "outputs": [
    {
     "name": "stdout",
     "output_type": "stream",
     "text": [
      " *** LOC\n"
     ]
    },
    {
     "ename": "AttributeError",
     "evalue": "module 'time' has no attribute 'clock'",
     "output_type": "error",
     "traceback": [
      "\u001b[1;31m---------------------------------------------------------------------------\u001b[0m",
      "\u001b[1;31mAttributeError\u001b[0m                            Traceback (most recent call last)",
      "\u001b[1;32m<ipython-input-10-9cf47fdbde53>\u001b[0m in \u001b[0;36m<module>\u001b[1;34m\u001b[0m\n\u001b[0;32m      6\u001b[0m     \u001b[0mtraining\u001b[0m \u001b[1;33m=\u001b[0m \u001b[0mpd\u001b[0m\u001b[1;33m.\u001b[0m\u001b[0mconcat\u001b[0m\u001b[1;33m(\u001b[0m\u001b[1;33m[\u001b[0m\u001b[0ms\u001b[0m \u001b[1;32mfor\u001b[0m \u001b[0mj\u001b[0m\u001b[1;33m,\u001b[0m\u001b[0ms\u001b[0m \u001b[1;32min\u001b[0m \u001b[0menumerate\u001b[0m\u001b[1;33m(\u001b[0m\u001b[0msplits\u001b[0m\u001b[1;33m)\u001b[0m \u001b[1;32mif\u001b[0m \u001b[0mj\u001b[0m\u001b[1;33m!=\u001b[0m\u001b[0mi\u001b[0m\u001b[1;33m]\u001b[0m\u001b[1;33m)\u001b[0m\u001b[1;33m\u001b[0m\u001b[1;33m\u001b[0m\u001b[0m\n\u001b[0;32m      7\u001b[0m     \u001b[0msplit\u001b[0m \u001b[1;33m=\u001b[0m \u001b[0msplits\u001b[0m\u001b[1;33m[\u001b[0m\u001b[0mi\u001b[0m\u001b[1;33m]\u001b[0m\u001b[1;33m\u001b[0m\u001b[1;33m\u001b[0m\u001b[0m\n\u001b[1;32m----> 8\u001b[1;33m     \u001b[0mfinal\u001b[0m \u001b[1;33m+=\u001b[0m \u001b[1;33m(\u001b[0m\u001b[0mclassify\u001b[0m\u001b[1;33m(\u001b[0m\u001b[0mconfusion\u001b[0m\u001b[1;33m,\u001b[0m \u001b[0mvals\u001b[0m\u001b[1;33m,\u001b[0m \u001b[0msplit\u001b[0m\u001b[1;33m,\u001b[0m \u001b[0mc45\u001b[0m\u001b[1;33m(\u001b[0m\u001b[0mtraining\u001b[0m\u001b[1;33m,\u001b[0m\u001b[0mtraining\u001b[0m\u001b[1;33m.\u001b[0m\u001b[0mcolumns\u001b[0m\u001b[1;33m[\u001b[0m\u001b[1;33m:\u001b[0m\u001b[1;33m-\u001b[0m\u001b[1;36m1\u001b[0m\u001b[1;33m]\u001b[0m\u001b[1;33m,\u001b[0m \u001b[1;36m0.2\u001b[0m\u001b[1;33m)\u001b[0m\u001b[1;33m,\u001b[0m \u001b[0msilent\u001b[0m\u001b[1;33m=\u001b[0m\u001b[1;32mTrue\u001b[0m\u001b[1;33m,\u001b[0m \u001b[0mlabeled\u001b[0m\u001b[1;33m=\u001b[0m\u001b[0misLabeled\u001b[0m\u001b[1;33m)\u001b[0m\u001b[1;33m)\u001b[0m\u001b[1;33m\u001b[0m\u001b[1;33m\u001b[0m\u001b[0m\n\u001b[0m\u001b[0;32m      9\u001b[0m \u001b[1;33m\u001b[0m\u001b[0m\n\u001b[0;32m     10\u001b[0m \u001b[1;32mif\u001b[0m \u001b[0misLabeled\u001b[0m\u001b[1;33m:\u001b[0m\u001b[1;33m\u001b[0m\u001b[1;33m\u001b[0m\u001b[0m\n",
      "\u001b[1;32m~\\OneDrive - Cal Poly\\CSC\\466-CSC\\Lab3-466-supervised-learning\\InduceC45.py\u001b[0m in \u001b[0;36mc45\u001b[1;34m(data, attrs, thresh, space)\u001b[0m\n\u001b[0;32m     80\u001b[0m \u001b[1;33m\u001b[0m\u001b[0m\n\u001b[0;32m     81\u001b[0m         \u001b[1;32mfor\u001b[0m \u001b[0mvalue\u001b[0m \u001b[1;32min\u001b[0m \u001b[0mpossibleValues\u001b[0m\u001b[1;33m:\u001b[0m\u001b[1;33m\u001b[0m\u001b[1;33m\u001b[0m\u001b[0m\n\u001b[1;32m---> 82\u001b[1;33m             \u001b[0mtic\u001b[0m\u001b[1;33m=\u001b[0m\u001b[0mtime\u001b[0m\u001b[1;33m.\u001b[0m\u001b[0mclock\u001b[0m\u001b[1;33m(\u001b[0m\u001b[1;33m)\u001b[0m\u001b[1;33m\u001b[0m\u001b[1;33m\u001b[0m\u001b[0m\n\u001b[0m\u001b[0;32m     83\u001b[0m             \u001b[0mrelatedData\u001b[0m \u001b[1;33m=\u001b[0m \u001b[0mdata\u001b[0m\u001b[1;33m[\u001b[0m\u001b[1;33m(\u001b[0m\u001b[0mdata\u001b[0m \u001b[1;33m==\u001b[0m \u001b[0mvalue\u001b[0m\u001b[1;33m)\u001b[0m\u001b[1;33m.\u001b[0m\u001b[0many\u001b[0m\u001b[1;33m(\u001b[0m\u001b[0maxis\u001b[0m \u001b[1;33m=\u001b[0m \u001b[1;36m1\u001b[0m\u001b[1;33m)\u001b[0m\u001b[1;33m]\u001b[0m \u001b[1;31m# take rows that have that value\u001b[0m\u001b[1;33m\u001b[0m\u001b[1;33m\u001b[0m\u001b[0m\n\u001b[0;32m     84\u001b[0m             \u001b[0mprint\u001b[0m\u001b[1;33m(\u001b[0m\u001b[0mtime\u001b[0m\u001b[1;33m.\u001b[0m\u001b[0mclock\u001b[0m\u001b[1;33m(\u001b[0m\u001b[1;33m)\u001b[0m\u001b[1;33m-\u001b[0m\u001b[0mtic\u001b[0m\u001b[1;33m)\u001b[0m\u001b[1;33m\u001b[0m\u001b[1;33m\u001b[0m\u001b[0m\n",
      "\u001b[1;31mAttributeError\u001b[0m: module 'time' has no attribute 'clock'"
     ]
    }
   ],
   "source": [
    "splits = np.array_split(df, numSplits)\n",
    "final=[]\n",
    "confusion = initializeConfusion(df)\n",
    "vals = [0, 0] # holds the accuracy and error rate\n",
    "for i in range(len(splits)):\n",
    "    training = pd.concat([s for j,s in enumerate(splits) if j!=i])\n",
    "    split = splits[i]\n",
    "    final += (classify(confusion, vals, split, c45(training,training.columns[:-1], 0.2), silent=True, labeled=isLabeled))\n",
    "\n",
    "if isLabeled:\n",
    "    print(\"This is vals: \", vals)\n",
    "    print(\"This is one possible calculation of Precision: \", possiblePrecision(confusion))\n",
    "    print(\"This is one possible calculation of recall: \", possibleRecall(confusion))\n",
    "    print(\"This is another precision: \", calcPrecision(confusion))\n",
    "    print(\"This is another recall: \", calcRecall(confusion))\n",
    "    print(\"This is possibly PF: \", calcPf(confusion))\n",
    "    print(confusion)\n",
    "    \n",
    "    avgAccuracy = vals[0]/numSplits\n",
    "    overallAccuracy = vals[0]/len(df)\n",
    "    \n",
    "    avgErrorRate = vals[1]/numSplits\n",
    "    overallErrorRate = vals[1]/len(df)\n",
    "    \n",
    "    print(\"This is average accuracy: \" , avgAccuracy)\n",
    "    print(\"This is overall accuracy: \", overallAccuracy)\n",
    "    print(\"This is average error rate: \", avgErrorRate)\n",
    "    print(\"This is overall error rate: \", overallErrorRate)\n",
    "\n",
    "\n",
    "final = pd.DataFrame(final)\n",
    "for i, row in final.iterrows():\n",
    "    print(i, row)\n",
    "print(df.loc[16])\n",
    "# j=0\n",
    "# ratio=len(df)/numSplits\n",
    "# for i,row in df.iterrows():\n",
    "#     if j%ratio == 0:\n",
    "#         print(df[:)\n",
    "#     j+=1\n",
    "    \n",
    "# print(len(df), df)\n",
    "# for i in range(len(df),len(df)/numSplits):\n",
    "#     print(i)\n",
    "# for split in splits:\n",
    "#     print(split)\n",
    "#     print(c45(split,split.columns[:-1], 0.2))\n",
    "# classify(df, induceC45(\"houses.csv\"), silent=True)"
   ]
  },
  {
   "cell_type": "code",
   "execution_count": null,
   "id": "4adbcb96-ef6a-4784-b17c-f8c1aac6c3c0",
   "metadata": {},
   "outputs": [],
   "source": [
    "for i in range(0,10,3):\n",
    "    print(i)"
   ]
  },
  {
   "cell_type": "code",
   "execution_count": null,
   "id": "96e27cc9-2032-4b47-9e4b-79d84eba0c30",
   "metadata": {},
   "outputs": [],
   "source": []
  }
 ],
 "metadata": {
  "kernelspec": {
   "display_name": "Python 3",
   "language": "python",
   "name": "python3"
  },
  "language_info": {
   "codemirror_mode": {
    "name": "ipython",
    "version": 3
   },
   "file_extension": ".py",
   "mimetype": "text/x-python",
   "name": "python",
   "nbconvert_exporter": "python",
   "pygments_lexer": "ipython3",
   "version": "3.8.8"
  }
 },
 "nbformat": 4,
 "nbformat_minor": 5
}
